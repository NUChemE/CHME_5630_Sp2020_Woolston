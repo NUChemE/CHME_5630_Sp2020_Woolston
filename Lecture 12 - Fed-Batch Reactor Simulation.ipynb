{
 "cells": [
  {
   "cell_type": "markdown",
   "metadata": {},
   "source": [
    "## Lecture 12: Fed-Batch Reactor Simulation\n",
    "## CHME 5630 - Spring 2020\n",
    "This notebook goes through the steps involved in simulating a fed-batch reactor. It extends the basic use of *odeint* to include modifications to the system of ODEs based on the current output while the solver is running. Essentially we are setting up automated process control. In this case, we will be detecting the DO spike associated with substrate ininital substrate depeltion, and at that point turning on the feed pump with the concentrated sugar solution.\n",
    "\n",
    "First, we import the packages we need:"
   ]
  },
  {
   "cell_type": "code",
   "execution_count": 25,
   "metadata": {},
   "outputs": [],
   "source": [
    "import numpy as np\n",
    "import math\n",
    "import matplotlib.pyplot as plt\n",
    "from scipy.integrate import solve_ivp\n",
    "%matplotlib inline"
   ]
  },
  {
   "cell_type": "markdown",
   "metadata": {},
   "source": [
    "Next, we'll define the variables we will need, starting with the kinetic and process parameters"
   ]
  },
  {
   "cell_type": "code",
   "execution_count": 75,
   "metadata": {},
   "outputs": [],
   "source": [
    "mu_max = 0.89 # 1/hr\n",
    "Ks_glucose = 0.1 #g/L\n",
    "Ks_oxygen = 0.05 #mmol/L\n",
    "Y_X_S = 0.4 #gdw/g glucose\n",
    "Y_X_O2 = 0.1#0.032 #gdw/mmol O2\n",
    "Q_O2 = 0#19.8 #mmol O2/hr\n",
    "kLa = 800.0 #1/hr\n",
    "PO2 = 1.0 #atm\n",
    "kH = 756.7 #l-atm/mol\n",
    "C_eq = PO2/kH * 1000.0 #mmol/L\n",
    "gluc_feed = 100.0 #g/L\n",
    "feed_rate = 2.0 #l/hr"
   ]
  },
  {
   "cell_type": "markdown",
   "metadata": {},
   "source": [
    "Now we define our derivative functions (one each for cells, substrate, and O2), which we get from the mass balances,\n",
    "\n",
    "$$\\frac{dX}{dt}=\\frac{X(V\\mu-\\frac{dV}{dt})}{V}$$\n",
    "\n",
    "$$\\frac{dS}{dt}=\\frac{FS_{feed}-\\frac{XV\\mu }{Y_{X/S}}-S\\frac{dV}{dt}}{V}$$\n",
    "\n",
    "$$\\frac{dO2}{dt}=\\frac{k_La(C_{eq}-O_2)-\\frac{XV\\mu }{Y_{X/O2}}-XVq_{O2}-O_2\\frac{dV}{dt}}{V}$$\n",
    "\n",
    "Remember that $\\mu$ is a function of S and O2, according to:\n",
    "\n",
    "$$\\mu = \\mu_{max}\\frac{S}{K_S+S}\\frac{O_2}{K_S+O_2}$$\n",
    "\n",
    "We also need to define our feed rate as a piecewise function. Before the O2 spike, there is no feed, and \n",
    "\n",
    "$$\\frac{dV}{dt}=0$$.\n",
    "\n",
    "After the O2 spike, the pump will be turned on at a constant rate (F), such that \n",
    "\n",
    "$$\\frac{dV}{dt}=F$$"
   ]
  },
  {
   "cell_type": "code",
   "execution_count": 76,
   "metadata": {},
   "outputs": [],
   "source": [
    "def deriv(t, y):\n",
    "    V = y[0]\n",
    "    X = y[1]\n",
    "    S = y[2]\n",
    "    O2 = y[3]\n",
    "    \n",
    "    mu = mu_max * S / (Ks_glucose + S) * O2 / (Ks_oxygen + O2)\n",
    "    \n",
    "    ##If the pump isn't already on, detect the substrate depletion, and turn on the pump\n",
    "    #if feed_on == \"off\" and S < S_threshold:\n",
    "    #    feed_on = \"on\"\n",
    "    \n",
    "    #if feed_on == \"on\": #If the trigger for the feed is on (1), then set pump to on\n",
    "    #    dVdt = F\n",
    "    #else:\n",
    "    #    dVdt = 0.0\n",
    "    F = F_on*feed_rate\n",
    "    \n",
    "    dVdt = F    \n",
    "    dXdt = (X * V * mu - X * dVdt) / V\n",
    "    dSdt = (F * gluc_feed - X * V * mu / Y_X_S - S * dVdt) / V\n",
    "    dO2dt = (kLa* (C_eq - O2) - Q_O2 * X * V - X * V * mu / Y_X_O2 - O2 * dVdt) / V\n",
    "    \n",
    "    return dVdt, dXdt, dSdt, dO2dt"
   ]
  },
  {
   "cell_type": "markdown",
   "metadata": {},
   "source": [
    "##### Now we generate a list of timepoints for which we want the solver to give us values of P and S. We just want linearly spaced time points between 0 and 5 hours"
   ]
  },
  {
   "cell_type": "code",
   "execution_count": 77,
   "metadata": {},
   "outputs": [
    {
     "data": {
      "text/plain": [
       "array([0.        , 0.02512563, 0.05025126, 0.07537688, 0.10050251,\n",
       "       0.12562814, 0.15075377, 0.1758794 , 0.20100503, 0.22613065,\n",
       "       0.25125628, 0.27638191, 0.30150754, 0.32663317, 0.35175879,\n",
       "       0.37688442, 0.40201005, 0.42713568, 0.45226131, 0.47738693,\n",
       "       0.50251256, 0.52763819, 0.55276382, 0.57788945, 0.60301508,\n",
       "       0.6281407 , 0.65326633, 0.67839196, 0.70351759, 0.72864322,\n",
       "       0.75376884, 0.77889447, 0.8040201 , 0.82914573, 0.85427136,\n",
       "       0.87939698, 0.90452261, 0.92964824, 0.95477387, 0.9798995 ,\n",
       "       1.00502513, 1.03015075, 1.05527638, 1.08040201, 1.10552764,\n",
       "       1.13065327, 1.15577889, 1.18090452, 1.20603015, 1.23115578,\n",
       "       1.25628141, 1.28140704, 1.30653266, 1.33165829, 1.35678392,\n",
       "       1.38190955, 1.40703518, 1.4321608 , 1.45728643, 1.48241206,\n",
       "       1.50753769, 1.53266332, 1.55778894, 1.58291457, 1.6080402 ,\n",
       "       1.63316583, 1.65829146, 1.68341709, 1.70854271, 1.73366834,\n",
       "       1.75879397, 1.7839196 , 1.80904523, 1.83417085, 1.85929648,\n",
       "       1.88442211, 1.90954774, 1.93467337, 1.95979899, 1.98492462,\n",
       "       2.01005025, 2.03517588, 2.06030151, 2.08542714, 2.11055276,\n",
       "       2.13567839, 2.16080402, 2.18592965, 2.21105528, 2.2361809 ,\n",
       "       2.26130653, 2.28643216, 2.31155779, 2.33668342, 2.36180905,\n",
       "       2.38693467, 2.4120603 , 2.43718593, 2.46231156, 2.48743719,\n",
       "       2.51256281, 2.53768844, 2.56281407, 2.5879397 , 2.61306533,\n",
       "       2.63819095, 2.66331658, 2.68844221, 2.71356784, 2.73869347,\n",
       "       2.7638191 , 2.78894472, 2.81407035, 2.83919598, 2.86432161,\n",
       "       2.88944724, 2.91457286, 2.93969849, 2.96482412, 2.98994975,\n",
       "       3.01507538, 3.04020101, 3.06532663, 3.09045226, 3.11557789,\n",
       "       3.14070352, 3.16582915, 3.19095477, 3.2160804 , 3.24120603,\n",
       "       3.26633166, 3.29145729, 3.31658291, 3.34170854, 3.36683417,\n",
       "       3.3919598 , 3.41708543, 3.44221106, 3.46733668, 3.49246231,\n",
       "       3.51758794, 3.54271357, 3.5678392 , 3.59296482, 3.61809045,\n",
       "       3.64321608, 3.66834171, 3.69346734, 3.71859296, 3.74371859,\n",
       "       3.76884422, 3.79396985, 3.81909548, 3.84422111, 3.86934673,\n",
       "       3.89447236, 3.91959799, 3.94472362, 3.96984925, 3.99497487,\n",
       "       4.0201005 , 4.04522613, 4.07035176, 4.09547739, 4.12060302,\n",
       "       4.14572864, 4.17085427, 4.1959799 , 4.22110553, 4.24623116,\n",
       "       4.27135678, 4.29648241, 4.32160804, 4.34673367, 4.3718593 ,\n",
       "       4.39698492, 4.42211055, 4.44723618, 4.47236181, 4.49748744,\n",
       "       4.52261307, 4.54773869, 4.57286432, 4.59798995, 4.62311558,\n",
       "       4.64824121, 4.67336683, 4.69849246, 4.72361809, 4.74874372,\n",
       "       4.77386935, 4.79899497, 4.8241206 , 4.84924623, 4.87437186,\n",
       "       4.89949749, 4.92462312, 4.94974874, 4.97487437, 5.        ])"
      ]
     },
     "execution_count": 77,
     "metadata": {},
     "output_type": "execute_result"
    }
   ],
   "source": [
    "t_span = np.linspace(0, 5.0, 200) #200 evenly spaced points betweeen 0 and 1400\n",
    "t_span"
   ]
  },
  {
   "cell_type": "code",
   "execution_count": 78,
   "metadata": {},
   "outputs": [],
   "source": [
    "#Define initial conditions\n",
    "V0 = 10.0 #L\n",
    "X0 = 0.2 #g/L\n",
    "S0 = 20 #g/L\n",
    "O20 = C_eq\n",
    "y0 = [V0, X0, S0, O20] #Define our initial conditions\n",
    "\n",
    "S_threshold = 0.01\n",
    "\n",
    "def out_of_substrate(t, y): return y[2]-S_threshold\n",
    "out_of_substrate.terminal = True\n",
    "\n",
    "#INtegrate the ode, triggering termination when substrate hits the pre-determined threshold\n",
    "F_on = 0.0\n",
    "sol = solve_ivp(deriv, (0,5), y0, events=out_of_substrate)\n",
    "\n",
    "#Convert the solution to a standard numpy array\n",
    "np_sol = np.asarray(sol.y)"
   ]
  },
  {
   "cell_type": "code",
   "execution_count": 79,
   "metadata": {},
   "outputs": [
    {
     "data": {
      "text/plain": [
       "4.43595342478025"
      ]
     },
     "execution_count": 79,
     "metadata": {},
     "output_type": "execute_result"
    }
   ],
   "source": [
    "#Store the time at which the event was triggered\n",
    "t_out_of_substrate = float(sol.t_events[0])\n",
    "t_out_of_substrate"
   ]
  },
  {
   "cell_type": "code",
   "execution_count": 80,
   "metadata": {},
   "outputs": [],
   "source": [
    "#Integrate the ODE from the time determined above, now with a feed\n",
    "\n",
    "init_feed = np_sol[:,-1] #Set the end of the previous simulation as the start point for the next one\n",
    "\n",
    "F_on = 1.0\n",
    "sol_feed = solve_ivp(deriv, (0,5), init_feed)"
   ]
  },
  {
   "cell_type": "code",
   "execution_count": 81,
   "metadata": {},
   "outputs": [],
   "source": [
    "#Combine both solutions\n",
    "np_sol_feed = np.asarray(sol_feed.y)\n",
    "np_sol_total = np.concatenate((np_sol, np_sol_feed), 1)\n",
    "t_feed = sol_feed.t + t_out_of_substrate\n",
    "t_total = np.concatenate((sol.t, t_feed))"
   ]
  },
  {
   "cell_type": "code",
   "execution_count": 82,
   "metadata": {},
   "outputs": [
    {
     "data": {
      "image/png": "[encoded data removed]",
      "text/plain": [
       "<Figure size 432x288 with 1 Axes>"
      ]
     },
     "metadata": {
      "needs_background": "light"
     },
     "output_type": "display_data"
    }
   ],
   "source": [
    "for i in range (0,4):\n",
    "    plt.plot(t_total, np_sol_total[i,:])"
   ]
  },
  {
   "cell_type": "code",
   "execution_count": 83,
   "metadata": {},
   "outputs": [
    {
     "data": {
      "text/plain": [
       "[<matplotlib.lines.Line2D at 0x1f531a8f448>]"
      ]
     },
     "execution_count": 83,
     "metadata": {},
     "output_type": "execute_result"
    },
    {
     "data": {
      "image/png": "[encoded data removed]",
      "text/plain": [
       "<Figure size 432x288 with 1 Axes>"
      ]
     },
     "metadata": {
      "needs_background": "light"
     },
     "output_type": "display_data"
    }
   ],
   "source": [
    "plt.plot(t_total, np_sol_total[3,:]/C_eq)"
   ]
  },
  {
   "cell_type": "code",
   "execution_count": null,
   "metadata": {},
   "outputs": [],
   "source": []
  },
  {
   "cell_type": "code",
   "execution_count": null,
   "metadata": {},
   "outputs": [],
   "source": []
  }
 ],
 "metadata": {
  "kernelspec": {
   "display_name": "Python 3",
   "language": "python",
   "name": "python3"
  },
  "language_info": {
   "codemirror_mode": {
    "name": "ipython",
    "version": 3
   },
   "file_extension": ".py",
   "mimetype": "text/x-python",
   "name": "python",
   "nbconvert_exporter": "python",
   "pygments_lexer": "ipython3",
   "version": "3.7.4"
  }
 },
 "nbformat": 4,
 "nbformat_minor": 2
}
