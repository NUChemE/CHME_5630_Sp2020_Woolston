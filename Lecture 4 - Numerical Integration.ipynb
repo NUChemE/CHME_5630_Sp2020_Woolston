{
 "cells": [
  {
   "cell_type": "markdown",
   "metadata": {},
   "source": [
    "# Lecture 4: Numerical Integration\n",
    "## CHME 5630 - Spring 2020\n",
    "This notebook goes through the steps involved in implementing two different proceudres for integrating ordinary differential equations that we will see in this course that are are tricky (or impossible) to solve analytically.\n",
    "\n",
    "The first is **Euler's method**, which we also implemented explicitly in Excel\n",
    "\n",
    "For a function $$\\frac{dy}{dt}=f(t,y)$$\n",
    "where $y(0) = y_0$, we introduce the approximation\n",
    "$$\\frac{\\Delta y}{\\Delta t}=\\frac{y_{n+1}-y_{n}}{t_{n+1}-t_{n}}\\approx f(t_n,y_n)$$\n",
    "using a small time step $\\Delta t = t_{n+1}-t_{n}$\n",
    "This gives us $$y_{n+1}=y_n+\\Delta t\\cdot f(t_n,y_n)$$\n",
    "To implement this method, we calculate the value of the derivative at the current value of $y$, and calculate the next value $y_{n+1}$ by adding the product of the derivative and the time step.\n",
    "\n",
    "The second is to use a built-in ODE solver from the scipy package, called **odeint**. The main advantage of this approach is that, unlike in Euler's method, which uses fixed time steps, odeint automatically adjusts the time steps. This is useful in **stiff** problems that have multiple different time scales. Enzymatic conversions are a good example of this, where in the first part of the reaction where $S>>K_m$ conversion is linear with time and we can take large time steps, but when the substrate begins to run out $(S \\approx K_m)$, a large time step might introduce numerical error (e.g. leading  to a negative substrate concentration).\n",
    "\n",
    "First, we import the packages we need:"
   ]
  },
  {
   "cell_type": "code",
   "execution_count": 2,
   "metadata": {
    "collapsed": true
   },
   "outputs": [],
   "source": [
    "import numpy as np\n",
    "import matplotlib.pyplot as plt\n",
    "from scipy.integrate import odeint #This part is only need for odeint, not Euler's method\n",
    "%matplotlib inline"
   ]
  },
  {
   "cell_type": "markdown",
   "metadata": {},
   "source": [
    "Next, we'll define the variables we will need for both approaches, starting with the kinetic and process parameters"
   ]
  },
  {
   "cell_type": "code",
   "execution_count": 3,
   "metadata": {
    "collapsed": true
   },
   "outputs": [],
   "source": [
    "v_max = 0.0596 #mM/min\n",
    "Km = 5.0 #mM (Note that if we had typed '5' instead of '5.0', python would have treated this value as an integer, which can cause problems with future math manipulations)\n",
    "S0 = 50.0 #mM\n",
    "P0 = 0.0\n",
    "I = 1.0 #mM\n",
    "Ki = 1.0 #mM"
   ]
  },
  {
   "cell_type": "markdown",
   "metadata": {},
   "source": [
    "Now, let's implement **Euler's method**. First we define our time increment:"
   ]
  },
  {
   "cell_type": "code",
   "execution_count": 4,
   "metadata": {
    "collapsed": true
   },
   "outputs": [],
   "source": [
    "tinc = 10 #s"
   ]
  },
  {
   "cell_type": "markdown",
   "metadata": {},
   "source": [
    "Now we define our derivative functions (one for product, and one for substrate), which we get from the mass balances,\n",
    "\n",
    "$$\\frac{dS}{dt}=-\\frac{V_{max}S}{K_m+S}$$\n",
    "\n",
    "$$\\frac{dP}{dt}=\\frac{V_{max}S}{K_m+S}$$\n",
    "\n",
    "The way we'll do this is to have a single **deriv** function that returns both $\\frac{d[P]}{dt}$ and $\\frac{d[S]}{dt}$"
   ]
  },
  {
   "cell_type": "code",
   "execution_count": 5,
   "metadata": {
    "collapsed": true
   },
   "outputs": [],
   "source": [
    "def deriv(S):\n",
    "    dSdt = -1 * v_max * S / (Km + S)\n",
    "    dPdt = v_max * S / (Km + S)\n",
    "    return [dSdt, dPdt] #Here we are returning a list, where the first element is dSdt and the second is dPdt"
   ]
  },
  {
   "cell_type": "markdown",
   "metadata": {},
   "source": [
    "Now we define a function that automates the Euler process, called **euler()**, that takes as inputs the initial conditions (init), the time step (tstep), the end time to stop calculating the values of S and P (tstop). First, we create three output lists where we'll store the time, [S] and [P] data. Then we'll start a loop. In the loop we'll call the **deriv** method to calculate the derivatives at teh current value of [S], then calculate the next values of t, [S], and [P], and append them to the relevant list. The loop will stop when the simulation time gets to the final time we're interested in. "
   ]
  },
  {
   "cell_type": "code",
   "execution_count": 6,
   "metadata": {
    "collapsed": true
   },
   "outputs": [],
   "source": [
    "def euler(init, tstep, tstop):\n",
    "    t = 0 #Define the starting time\n",
    "    \n",
    "    #Define lists to store the time, substrate and product values for plotting later\n",
    "    time = [0]\n",
    "    S = [init[0]]\n",
    "    P = [init[1]]\n",
    "   \n",
    "    #Loop until we've hit the end of the simulation time\n",
    "    while t < tstop:\n",
    "        [dSdt, dPdt] = deriv(S[-1]) #Calculate the derivatives based on the current value of S (-1 refers to the last elemetn in a list)\n",
    "        S.append(dSdt*tstep+S[-1]) #Calculate the next value of S and add that new value of S to the end of the list\n",
    "        P.append(dPdt*tstep+P[-1]) #Calculate the next value of P and add that new value of P to the end of the list\n",
    "        t = time[-1]+tstep #Update the simulation time\n",
    "        time.append(t) #Add the current value of time to the end of the t list\n",
    "        \n",
    "    return time, P, S #Return the data to the calling function\n",
    "    "
   ]
  },
  {
   "cell_type": "markdown",
   "metadata": {},
   "source": [
    "Now we're all set to run. We'll call the **euler** method we defined, feeding it the initial substrate and product concentrations, the time increment, and the stopping time"
   ]
  },
  {
   "cell_type": "code",
   "execution_count": 7,
   "metadata": {
    "collapsed": false
   },
   "outputs": [],
   "source": [
    "time, P, S = euler([S0, P0], tinc, 1400)"
   ]
  },
  {
   "cell_type": "markdown",
   "metadata": {},
   "source": [
    "Let's plot the results"
   ]
  },
  {
   "cell_type": "code",
   "execution_count": 8,
   "metadata": {
    "collapsed": false
   },
   "outputs": [
    {
     "data": {
      "text/plain": [
       "[<matplotlib.lines.Line2D at 0x1ec995e3978>]"
      ]
     },
     "execution_count": 8,
     "metadata": {},
     "output_type": "execute_result"
    },
    {
     "data": {
      "image/png": "[encoded data removed]",
      "text/plain": [
       "<matplotlib.figure.Figure at 0x1ec995e3940>"
      ]
     },
     "metadata": {},
     "output_type": "display_data"
    }
   ],
   "source": [
    "plt.plot(time,P,'k')\n",
    "plt.plot(time,S,'r')"
   ]
  },
  {
   "cell_type": "markdown",
   "metadata": {
    "collapsed": false
   },
   "source": [
    "These look similar to what we found when we used Excel. You may want to do further manipulation with these lists, e.g. finding the time point that corresponds to a certain substrate level. These sorts of things can be done in Python, and I encourage you to look for creative ways to this. An alternative is to save the raw data into an Excel file for simpler manipulation:"
   ]
  },
  {
   "cell_type": "code",
   "execution_count": 23,
   "metadata": {
    "collapsed": false
   },
   "outputs": [],
   "source": [
    "import pandas as pd #Pandas is a really useful library providing data structures and data analysis tools\n",
    "\n",
    "df = pd.DataFrame({'Time (s)': time, #First, we convert our lists to a Pandas dataframe, with headers\n",
    "                    'S (mM)': S,\n",
    "                    'P (mM)': P})\n",
    "\n",
    "df.to_excel('simulation_results.xls',\"Sheet 1\", startrow=1, columns=['Time (s)','S (mM)','P (mM)']) #Next, we use the built-in functionality of pandas to save the data to an Excel file.\n",
    "    "
   ]
  },
  {
   "cell_type": "code",
   "execution_count": null,
   "metadata": {
    "collapsed": true
   },
   "outputs": [],
   "source": []
  }
 ],
 "metadata": {
  "kernelspec": {
   "display_name": "Python 3",
   "language": "python",
   "name": "python3"
  },
  "language_info": {
   "codemirror_mode": {
    "name": "ipython",
    "version": 3
   },
   "file_extension": ".py",
   "mimetype": "text/x-python",
   "name": "python",
   "nbconvert_exporter": "python",
   "pygments_lexer": "ipython3",
   "version": "3.6.0"
  }
 },
 "nbformat": 4,
 "nbformat_minor": 2
}
